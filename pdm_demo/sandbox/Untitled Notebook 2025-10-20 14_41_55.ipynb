{
 "cells": [
  {
   "cell_type": "code",
   "execution_count": 0,
   "metadata": {
    "application/vnd.databricks.v1+cell": {
     "cellMetadata": {
      "byteLimit": 2048000,
      "implicitDf": true,
      "rowLimit": 10000
     },
     "inputWidgets": {},
     "nuid": "24f749e7-137b-4279-9760-11a246c931a2",
     "showTitle": false,
     "tableResultSettingsMap": {},
     "title": ""
    }
   },
   "outputs": [],
   "source": [
    "%sql\n",
    "USE CATALOG public_sector;\n",
    "USE SCHEMA predictive_maintenance_navy;"
   ]
  },
  {
   "cell_type": "code",
   "execution_count": 0,
   "metadata": {
    "application/vnd.databricks.v1+cell": {
     "cellMetadata": {
      "byteLimit": 2048000,
      "implicitDf": true,
      "rowLimit": 10000
     },
     "inputWidgets": {},
     "nuid": "c5e9a41f-e735-4e09-9fe7-63665f74b14e",
     "showTitle": false,
     "tableResultSettingsMap": {},
     "title": ""
    }
   },
   "outputs": [],
   "source": [
    "%sql\n",
    "CREATE OR REPLACE TEMPORARY VIEW test AS\n",
    "WITH s AS (\n",
    "  SELECT *\n",
    "  FROM sensor_silver\n",
    "  LIMIT 100\n",
    ")\n",
    "SELECT \n",
    "  s.*,\n",
    "  ai_query(\n",
    "    endpoint => 'navy_predictive_maintenance',\n",
    "    request => struct(\n",
    "      hourly_timestamp,\n",
    "      avg_energy,\n",
    "      std_sensor_A,\n",
    "      std_sensor_B,\n",
    "      std_sensor_C,\n",
    "      std_sensor_D,\n",
    "      std_sensor_E,\n",
    "      std_sensor_F,\n",
    "      percentiles_sensor_A,\n",
    "      percentiles_sensor_B,\n",
    "      percentiles_sensor_C,\n",
    "      percentiles_sensor_D,\n",
    "      percentiles_sensor_E,\n",
    "      percentiles_sensor_F\n",
    "    ),\n",
    "    returnType => 'STRING'\n",
    "  ) AS prediction\n",
    "FROM s"
   ]
  },
  {
   "cell_type": "code",
   "execution_count": 0,
   "metadata": {
    "application/vnd.databricks.v1+cell": {
     "cellMetadata": {
      "byteLimit": 2048000,
      "rowLimit": 10000
     },
     "inputWidgets": {},
     "nuid": "3bc33712-b000-4616-a3cb-938a2e3b3b22",
     "showTitle": false,
     "tableResultSettingsMap": {},
     "title": ""
    }
   },
   "outputs": [],
   "source": [
    "sensor_bronze_df = spark.read.table(\"public_sector.predictive_maintenance_navy_test.sensor_bronze\")\n",
    "test_df = spark.table(\"test\")\n",
    "joined_df = sensor_bronze_df.join(\n",
    "    test_df,\n",
    "    on=\"turbine_id\"\n",
    ")\n",
    "result_df = joined_df.select(\"turbine_id\", \"abnormal_sensor\", \"prediction\")\n",
    "display(result_df)"
   ]
  },
  {
   "cell_type": "code",
   "execution_count": 0,
   "metadata": {
    "application/vnd.databricks.v1+cell": {
     "cellMetadata": {
      "byteLimit": 2048000,
      "rowLimit": 10000
     },
     "inputWidgets": {},
     "nuid": "077f74d7-df50-422e-8a8c-7a2b287d75ea",
     "showTitle": false,
     "tableResultSettingsMap": {},
     "title": ""
    }
   },
   "outputs": [],
   "source": [
    "import mlflow\n"
   ]
  },
  {
   "cell_type": "code",
   "execution_count": 0,
   "metadata": {
    "application/vnd.databricks.v1+cell": {
     "cellMetadata": {
      "byteLimit": 2048000,
      "rowLimit": 10000
     },
     "inputWidgets": {},
     "nuid": "c057922d-de62-4ab5-a8f2-525882430eaa",
     "showTitle": false,
     "tableResultSettingsMap": {},
     "title": ""
    }
   },
   "outputs": [],
   "source": [
    "import mlflow.pyfunc\n",
    "\n",
    "model_uri = \"models:/public_sector.predictive_maintenance_navy.predictive_maintenance_model/3\"\n",
    "model = mlflow.pyfunc.load_model(model_uri)\n",
    "\n",
    "# Example: predictions = model.predict(your_dataframe)\n",
    "\n",
    "df = spark.read.table(\"public_sector.predictive_maintenance_navy_test.turbine_training_dataset\").limit(100)\n",
    "labels = df.select(\"turbine_id\", \"abnormal_sensor\")\n",
    "predictions = model.predict(df.toPandas().drop('abnormal_sensor', axis=1))\n",
    "\n",
    "display(spark.createDataFrame(predictions))"
   ]
  },
  {
   "cell_type": "code",
   "execution_count": 0,
   "metadata": {
    "application/vnd.databricks.v1+cell": {
     "cellMetadata": {
      "byteLimit": 2048000,
      "rowLimit": 10000
     },
     "inputWidgets": {},
     "nuid": "8d494baa-d26b-4c31-89a4-5ed66bacb3ff",
     "showTitle": false,
     "tableResultSettingsMap": {},
     "title": ""
    }
   },
   "outputs": [],
   "source": [
    "display(labels)"
   ]
  },
  {
   "cell_type": "code",
   "execution_count": 0,
   "metadata": {
    "application/vnd.databricks.v1+cell": {
     "cellMetadata": {
      "byteLimit": 2048000,
      "rowLimit": 10000
     },
     "inputWidgets": {},
     "nuid": "60a91c04-9b52-4027-b958-603aa79acb52",
     "showTitle": false,
     "tableResultSettingsMap": {},
     "title": ""
    }
   },
   "outputs": [],
   "source": [
    "import os\n",
    "import requests\n",
    "import numpy as np\n",
    "import pandas as pd\n",
    "import json\n",
    "\n",
    "def create_tf_serving_json(data):\n",
    "    return {'inputs': {name: data[name].tolist() for name in data.keys()} if isinstance(data, dict) else data.tolist()}\n",
    "\n",
    "def score_model(dataset):\n",
    "    url = 'https://e2-demo-field-eng.cloud.databricks.com/serving-endpoints/navy_predictive_maintenance/invocations'\n",
    "    headers = {'Authorization': f'Bearer {os.environ.get(\"DATABRICKS_TOKEN\")}', 'Content-Type': 'application/json'}\n",
    "    ds_dict = {'dataframe_split': dataset.to_dict(orient='split')} if isinstance(dataset, pd.DataFrame) else create_tf_serving_json(dataset)\n",
    "    data_json = json.dumps(ds_dict, allow_nan=True)\n",
    "    response = requests.request(method='POST', headers=headers, url=url, data=data_json)\n",
    "    if response.status_code != 200:\n",
    "        raise Exception(f'Request failed with status {response.status_code}, {response.text}')\n",
    "    return response.json()"
   ]
  },
  {
   "cell_type": "code",
   "execution_count": 0,
   "metadata": {
    "application/vnd.databricks.v1+cell": {
     "cellMetadata": {
      "byteLimit": 2048000,
      "rowLimit": 10000
     },
     "inputWidgets": {},
     "nuid": "b9d50244-71a4-4bde-99d9-54c1e9543e2d",
     "showTitle": false,
     "tableResultSettingsMap": {},
     "title": ""
    }
   },
   "outputs": [],
   "source": [
    "import pandas as pd\n",
    "\n",
    "def score_model(dataset):\n",
    "    # Convert pandas.Timestamp to string\n",
    "    if isinstance(dataset, pd.DataFrame):\n",
    "        dataset = dataset.applymap(\n",
    "            lambda x: x.isoformat() if isinstance(x, pd.Timestamp) else x\n",
    "        )\n",
    "        ds_dict = {'dataframe_split': dataset.to_dict(orient='split')}\n",
    "    else:\n",
    "        ds_dict = create_tf_serving_json(dataset)\n",
    "    data_json = json.dumps(ds_dict, allow_nan=True)\n",
    "    response = requests.request(\n",
    "        method='POST',\n",
    "        headers={'Authorization': f'Bearer {os.environ.get(\"DATABRICKS_TOKEN\")}', 'Content-Type': 'application/json'},\n",
    "        url=url,\n",
    "        data=data_json\n",
    "    )\n",
    "    if response.status_code != 200:\n",
    "        raise Exception(f\"Request failed: {response.text}\")\n",
    "    return response.json()"
   ]
  },
  {
   "cell_type": "code",
   "execution_count": 0,
   "metadata": {
    "application/vnd.databricks.v1+cell": {
     "cellMetadata": {
      "byteLimit": 2048000,
      "rowLimit": 10000
     },
     "inputWidgets": {},
     "nuid": "cfb11355-3e94-4eea-92ba-add97b24b170",
     "showTitle": false,
     "tableResultSettingsMap": {},
     "title": ""
    }
   },
   "outputs": [],
   "source": [
    "preds = score_model(df.toPandas())"
   ]
  }
 ],
 "metadata": {
  "application/vnd.databricks.v1+notebook": {
   "computePreferences": {
    "hardware": {
     "accelerator": null,
     "gpuPoolId": null,
     "memory": null
    }
   },
   "dashboards": [],
   "environmentMetadata": {
    "base_environment": "",
    "environment_version": "4"
   },
   "inputWidgetPreferences": null,
   "language": "python",
   "notebookMetadata": {
    "mostRecentlyExecutedCommandWithImplicitDF": {
     "commandId": 6588635690550812,
     "dataframes": [
      "_sqldf"
     ]
    },
    "pythonIndentUnit": 2
   },
   "notebookName": "Untitled Notebook 2025-10-20 14_41_55",
   "widgets": {}
  },
  "language_info": {
   "name": "python"
  }
 },
 "nbformat": 4,
 "nbformat_minor": 0
}
