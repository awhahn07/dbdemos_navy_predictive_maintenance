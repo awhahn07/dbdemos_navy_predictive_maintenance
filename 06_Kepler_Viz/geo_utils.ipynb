{
 "cells": [
  {
   "cell_type": "code",
   "execution_count": 0,
   "metadata": {
    "application/vnd.databricks.v1+cell": {
     "cellMetadata": {},
     "inputWidgets": {},
     "nuid": "9038405f-9b01-4266-a106-fac0aee0cacc",
     "showTitle": false,
     "tableResultSettingsMap": {},
     "title": ""
    }
   },
   "outputs": [],
   "source": [
    "import numpy as np\n",
    "import pandas as pd\n",
    "\n",
    "def meters_to_deg_lat(m):     # ~111,000 m per degree latitude\n",
    "    return m / 111_000.0\n",
    "\n",
    "def meters_to_deg_lon(m, lat):  # shrink by cos(latitude)\n",
    "    return m / (111_000.0 * np.cos(np.deg2rad(lat)))\n",
    "\n",
    "def jitter_duplicates(df, lat_col='lat', lon_col='lon', jitter_meters=30):\n",
    "    # Count duplicates\n",
    "    grp = df.groupby([lat_col, lon_col]).cumcount()\n",
    "    # random radius (0..1) and angle (0..2π) per row, but only for duplicates\n",
    "    r = np.random.rand(len(df)) * jitter_meters\n",
    "    theta = np.random.rand(len(df)) * 2 * np.pi\n",
    "\n",
    "    # convert meter offsets to degrees, using each row’s latitude for lon scaling\n",
    "    dlat = meters_to_deg_lat(r * np.sin(theta))\n",
    "    dlon = meters_to_deg_lon(r * np.cos(theta), df[lat_col].values)\n",
    "\n",
    "    # only apply when there are duplicates (grp > 0)\n",
    "    df = df.copy()\n",
    "    mask = grp > 0\n",
    "    df.loc[mask, lat_col] = df.loc[mask, lat_col] + dlat[mask]\n",
    "    df.loc[mask, lon_col] = df.loc[mask, lon_col] + dlon[mask]\n",
    "    return df\n",
    "\n",
    "# spiderfy test\n",
    "def spiderfy_duplicates(df, lat_col='lat', lon_col='lon', radius_m=200):\n",
    "    df = df.copy()\n",
    "    # group rows by exact coordinate\n",
    "    groups = df.groupby([lat_col, lon_col], dropna=False)\n",
    "    idxs = []\n",
    "    dlat_all = []\n",
    "    dlon_all = []\n",
    "\n",
    "    for (_, _), idx in groups.indices.items():\n",
    "        n = len(idx)\n",
    "        if n == 1:\n",
    "            idxs.extend(idx)\n",
    "            dlat_all.extend([0])\n",
    "            dlon_all.extend([0])\n",
    "            continue\n",
    "        # Even angles around a circle\n",
    "        angles = np.linspace(0, 2*np.pi, n, endpoint=False)\n",
    "        # Use the shared latitude for lon scaling\n",
    "        lat_vals = df.loc[idx, lat_col].values\n",
    "        dlat = meters_to_deg_lat(radius_m * np.sin(angles))\n",
    "        dlon = meters_to_deg_lon(radius_m * np.cos(angles), lat_vals)\n",
    "        idxs.extend(idx)\n",
    "        dlat_all.extend(dlat)\n",
    "        dlon_all.extend(dlon)\n",
    "\n",
    "    dlat_all = np.array(dlat_all)\n",
    "    dlon_all = np.array(dlon_all)\n",
    "    df.loc[idxs, lat_col] += dlat_all\n",
    "    df.loc[idxs, lon_col] += dlon_all\n",
    "    return df"
   ]
  }
 ],
 "metadata": {
  "application/vnd.databricks.v1+notebook": {
   "computePreferences": null,
   "dashboards": [],
   "environmentMetadata": {
    "base_environment": "",
    "environment_version": "3"
   },
   "inputWidgetPreferences": null,
   "language": "python",
   "notebookMetadata": {
    "pythonIndentUnit": 2
   },
   "notebookName": "geo_utils",
   "widgets": {}
  },
  "language_info": {
   "name": "python"
  }
 },
 "nbformat": 4,
 "nbformat_minor": 0
}
