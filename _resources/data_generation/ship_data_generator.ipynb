{
 "cells": [
  {
   "cell_type": "markdown",
   "metadata": {
    "application/vnd.databricks.v1+cell": {
     "cellMetadata": {},
     "inputWidgets": {},
     "nuid": "1dfc1106-b9da-4181-b61d-883e47f2849e",
     "showTitle": false,
     "tableResultSettingsMap": {},
     "title": ""
    }
   },
   "source": [
    "# Create Ship Meta Data \n",
    "Contains Ship name, homeport"
   ]
  },
  {
   "cell_type": "code",
   "execution_count": 0,
   "metadata": {
    "application/vnd.databricks.v1+cell": {
     "cellMetadata": {},
     "inputWidgets": {},
     "nuid": "5b4460e6-e6d1-4492-87e5-fc7f620dc16f",
     "showTitle": false,
     "tableResultSettingsMap": {},
     "title": ""
    }
   },
   "outputs": [],
   "source": [
    "from pyspark.sql.functions import lit\n",
    "from pyspark.sql.functions import monotonically_increasing_id, floor, lit, hash, abs\n",
    "import pandas as pd\n",
    "\n",
    "file_location = \"./platform_csvs/PdM_Platform_Data - navy_platform_data.csv\"\n",
    "pandas_df = pd.read_csv(file_location)\n",
    "ships = spark.createDataFrame(pandas_df)\n",
    "\n",
    "ships = ships.withColumn(\"join_key\", monotonically_increasing_id())\n",
    "\n",
    "# Get total number of ships for Turbine ID assignment\n",
    "num_ships = ships.select('designator').count()\n",
    "status = (spark.read.format('json').load(folder_status)\n",
    "          .drop('end_time')\n",
    "          .drop('start_time')\n",
    "          .drop('abnormal_sensor')\n",
    "          .withColumn('model', lit('LM2500'))\n",
    "          .withColumn('join_key', monotonically_increasing_id() % num_ships)\n",
    "          )\n",
    "\n",
    "# Assign turbine ID to ship metadata\n",
    "ship_meta = ships.join(status, 'join_key').drop('join_key').withColumn('designator_id', abs(hash('designator')))\n",
    "\n",
    "folder_ship = folder+'/ship_meta'\n",
    "ship_meta.write.mode('overwrite').format('json').save(folder_ship)\n",
    "cleanup(folder_ship)\n"
   ]
  },
  {
   "cell_type": "markdown",
   "metadata": {
    "application/vnd.databricks.v1+cell": {
     "cellMetadata": {},
     "inputWidgets": {},
     "nuid": "67ea6b87-d4c3-49c9-858c-a133389fac01",
     "showTitle": false,
     "tableResultSettingsMap": {},
     "title": ""
    }
   },
   "source": [
    "## PUBSEC AMTRAK Metadata"
   ]
  },
  {
   "cell_type": "code",
   "execution_count": 0,
   "metadata": {
    "application/vnd.databricks.v1+cell": {
     "cellMetadata": {},
     "inputWidgets": {},
     "nuid": "041c5a95-c5ea-4117-9406-27a8378445fa",
     "showTitle": false,
     "tableResultSettingsMap": {},
     "title": ""
    }
   },
   "outputs": [],
   "source": [
    "from pyspark.sql.functions import lit\n",
    "from pyspark.sql.functions import monotonically_increasing_id, floor, lit\n",
    "\n",
    "file_location = \"./platform_csvs/PdM_Platform_Data - pubsec_platform_data.csv\"\n",
    "pandas_df = pd.read_csv(file_location)\n",
    "ships = spark.createDataFrame(pandas_df)\n",
    "\n",
    "ships = ships.withColumn(\"join_key\", monotonically_increasing_id())\n",
    "\n",
    "folder_status = folder+'/historical_turbine_status'\n",
    "# Get total number of ships for Turbine ID assignment\n",
    "num_ships = ships.select('designator').count()\n",
    "status = (spark.read.format('json').load(folder_status)\n",
    "          .drop('end_time')\n",
    "          .drop('start_time')\n",
    "          .drop('abnormal_sensor')\n",
    "          .withColumn('model', lit('LM2500'))\n",
    "          .withColumn('join_key', monotonically_increasing_id() % num_ships)\n",
    "          )\n",
    "# # Assign turbine ID to ship metadata\n",
    "ship_meta = ships.join(status, 'join_key').drop('join_key').withColumn('designator_id', abs(hash('designator')))\n",
    "\n",
    "folder_platform = folder+'/platform_meta'\n",
    "ship_meta.write.mode('overwrite').format('json').save(folder_platform)\n",
    "cleanup(folder_platform)"
   ]
  }
 ],
 "metadata": {
  "application/vnd.databricks.v1+notebook": {
   "computePreferences": null,
   "dashboards": [],
   "environmentMetadata": {
    "base_environment": "dbe_65bc13ea-276c-4905-a728-9fe2fb1780e2",
    "environment_version": "3"
   },
   "inputWidgetPreferences": null,
   "language": "python",
   "notebookMetadata": {
    "pythonIndentUnit": 2
   },
   "notebookName": "ship_data_generator",
   "widgets": {}
  },
  "language_info": {
   "name": "python"
  }
 },
 "nbformat": 4,
 "nbformat_minor": 0
}
