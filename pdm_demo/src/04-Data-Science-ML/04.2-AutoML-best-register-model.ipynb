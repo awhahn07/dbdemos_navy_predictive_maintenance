{
 "cells": [
  {
   "cell_type": "markdown",
   "metadata": {
    "application/vnd.databricks.v1+cell": {
     "cellMetadata": {},
     "inputWidgets": {},
     "nuid": "344e195d-3ea4-4ddd-bec8-f26d5995a53b",
     "showTitle": false,
     "tableResultSettingsMap": {},
     "title": ""
    }
   },
   "source": [
    "# Use the best Auto-ML generated notebook to bootstrap our ML Project\n",
    "\n",
    "<img src=\"https://raw.githubusercontent.com/QuentinAmbard/databricks-demo/main/retail/resources/images/lakehouse-retail/lakehouse-retail-churn-ml-experiment.png\" style=\"float: right\" width=\"600px\">\n",
    "\n",
    "Databricks Auto-ML tries many models and generate notebooks containing the code used to build the model.\n",
    "\n",
    "Here, we selected the notebook from best run from the Auto ML experiment.\n",
    "\n",
    "All the code below has been automatically generated. As Data Scientist, we can tune it based on our business knowledge, or use the model generated as it is.\n",
    "\n",
    "This saves Datascientists hours of developement and allow team to quickly bootstrap and validate new project.\n",
    "\n",
    "*Make sure you run the previous notebook to be able to access the data.*\n",
    "\n",
    "<!-- Collect usage data (view). Remove it to disable collection. View README for more details.  -->\n",
    "<img width=\"1px\" src=\"https://ppxrzfxige.execute-api.us-west-2.amazonaws.com/v1/analytics?category=lakehouse&org_id=1444828305810485&notebook=%2F04-Data-Science-ML%2F04.2-automl-generated-notebook-iot-turbine&demo_name=lakehouse-iot-platform&event=VIEW&path=%2F_dbdemos%2Flakehouse%2Flakehouse-iot-platform%2F04-Data-Science-ML%2F04.2-automl-generated-notebook-iot-turbine&version=1\">"
   ]
  },
  {
   "cell_type": "code",
   "execution_count": 0,
   "metadata": {
    "application/vnd.databricks.v1+cell": {
     "cellMetadata": {
      "byteLimit": 2048000,
      "rowLimit": 10000
     },
     "inputWidgets": {},
     "nuid": "58dea085-5c5a-4005-9f93-6b41e9517ae6",
     "showTitle": false,
     "tableResultSettingsMap": {},
     "title": ""
    }
   },
   "outputs": [],
   "source": [
    "%run ../config"
   ]
  },
  {
   "cell_type": "code",
   "execution_count": 0,
   "metadata": {
    "application/vnd.databricks.v1+cell": {
     "cellMetadata": {
      "byteLimit": 2048000,
      "rowLimit": 10000
     },
     "inputWidgets": {},
     "nuid": "514fc7cb-c87e-427c-9a63-5971721ba213",
     "showTitle": false,
     "tableResultSettingsMap": {},
     "title": ""
    }
   },
   "outputs": [],
   "source": [
    "%run ../_resources/00-global-setup-v2"
   ]
  },
  {
   "cell_type": "code",
   "execution_count": 0,
   "metadata": {
    "application/vnd.databricks.v1+cell": {
     "cellMetadata": {
      "byteLimit": 2048000,
      "rowLimit": 10000
     },
     "inputWidgets": {},
     "nuid": "d02718d5-f9ee-47ee-96b5-f83f01ffbc6e",
     "showTitle": false,
     "tableResultSettingsMap": {},
     "title": ""
    }
   },
   "outputs": [],
   "source": [
    "\n",
    "dbutils.widgets.dropdown(\"reset_all_data\", \"false\", [\"true\", \"false\"], \"Reset all data\")\n",
    "reset_all_data = dbutils.widgets.get(\"reset_all_data\") == \"true\"\n",
    "\n",
    "DBDemos.setup_schema(catalog, db, reset_all_data, volume_name)\n",
    "volume_folder =  f\"/Volumes/{catalog}/{db}/{volume_name}\""
   ]
  },
  {
   "cell_type": "code",
   "execution_count": 0,
   "metadata": {
    "application/vnd.databricks.v1+cell": {
     "cellMetadata": {
      "byteLimit": 2048000,
      "rowLimit": 10000
     },
     "inputWidgets": {},
     "nuid": "d3636bd7-e5de-4432-bbec-641d15321c0b",
     "showTitle": false,
     "tableResultSettingsMap": {},
     "title": ""
    },
    "execution": {
     "iopub.execute_input": "2024-05-03T18:37:40.402061Z",
     "iopub.status.busy": "2024-05-03T18:37:40.401772Z",
     "iopub.status.idle": "2024-05-03T18:37:40.409163Z",
     "shell.execute_reply": "2024-05-03T18:37:40.408115Z"
    }
   },
   "outputs": [],
   "source": [
    "import mlflow\n",
    "# import databricks.automl_runtime\n",
    "\n",
    "from mlflow.tracking import MlflowClient\n",
    "\n",
    "mlflow.set_registry_uri(\"databricks-uc\")\n",
    "\n",
    "#Added for the demo purpose\n",
    "xp = DBDemos.get_last_experiment(experiment_name)\n",
    "#xp = DBDemos.get_last_experiment('navy-turbine-maintenance')\n",
    "\n",
    "# Use MLflow to track experiments\n",
    "mlflow.set_experiment(xp[\"path\"])\n",
    "\n",
    "#Run containing the data analysis notebook to get the data from artifact\n",
    "# data_run = mlflow.search_runs(filter_string=\"tags.mlflow.source.name='Notebook: DataExploration'\", order_by=['attributes.start_time DESC']).iloc[0].to_dict()\n",
    "\n",
    "#get best run id (this notebook)\n",
    "df = mlflow.search_runs(filter_string=\"metrics.val_f1_score < 1\")\n",
    "run = df.sort_values(by=\"metrics.val_f1_score\", ascending=False).iloc[0].to_dict()\n",
    "\n",
    "\n",
    "client = MlflowClient()\n",
    "#Get the best run\n",
    "best_run = client.get_run(run[\"run_id\"])\n",
    "\n",
    "#register best run\n",
    "latest_model = mlflow.register_model(f'runs:/{best_run.info.run_id}/model', f\"{catalog}.{db}.{model_name}\")\n",
    "  # Flag it as Production ready using UC Aliases\n",
    "client.set_registered_model_alias(name=f\"{catalog}.{db}.{model_name}\", alias=\"prod\", version=latest_model.version)\n",
    "\n"
   ]
  },
  {
   "cell_type": "code",
   "execution_count": 0,
   "metadata": {
    "application/vnd.databricks.v1+cell": {
     "cellMetadata": {
      "byteLimit": 2048000,
      "rowLimit": 10000
     },
     "inputWidgets": {},
     "nuid": "17f457c5-4551-4869-add0-483091baf6d7",
     "showTitle": false,
     "tableResultSettingsMap": {},
     "title": ""
    }
   },
   "outputs": [],
   "source": [
    "# from databricks.sdk import WorkspaceClient\n",
    "\n",
    "# w = WorkspaceClient()\n",
    "\n",
    "# PIPE_ID = \"0b28ba35-59b7-4c9c-9aca-c59a78e34432\"\n",
    "# TABLES = [\n",
    "#   'current_status_predictions',\n",
    "#   'ship_current_status_gold'\n",
    "# ]\n",
    "\n",
    "# w.pipelines.start_update(pipeline_id=PIPE_ID, refresh_selection=TABLES)"
   ]
  },
  {
   "cell_type": "markdown",
   "metadata": {
    "application/vnd.databricks.v1+cell": {
     "cellMetadata": {},
     "inputWidgets": {},
     "nuid": "85deafbd-58d7-44ed-b965-44318f267da2",
     "showTitle": false,
     "tableResultSettingsMap": {},
     "title": ""
    }
   },
   "source": [
    "We just moved our model as production ready! [Open the dbdemos_turbine_maintenance model](#mlflow/models/dbdemos_turbine_maintenance) to explore its artifact and analyze the parameters used, including traceability to the notebook used for its creation."
   ]
  }
 ],
 "metadata": {
  "application/vnd.databricks.v1+notebook": {
   "computePreferences": {
    "hardware": {
     "accelerator": null,
     "gpuPoolId": null,
     "memory": null
    }
   },
   "dashboards": [],
   "environmentMetadata": {
    "base_environment": "",
    "environment_version": "4"
   },
   "inputWidgetPreferences": null,
   "language": "python",
   "notebookMetadata": {
    "pythonIndentUnit": 2
   },
   "notebookName": "04.2-AutoML-best-register-model",
   "widgets": {
    "reset_all_data": {
     "currentValue": "false",
     "nuid": "d3afa945-af18-4da4-acf1-5140caaaadfd",
     "typedWidgetInfo": {
      "autoCreated": false,
      "defaultValue": "false",
      "label": "Reset all data",
      "name": "reset_all_data",
      "options": {
       "widgetDisplayType": "Dropdown",
       "choices": [
        "true",
        "false"
       ],
       "fixedDomain": true,
       "multiselect": false
      },
      "parameterDataType": "String"
     },
     "widgetInfo": {
      "widgetType": "dropdown",
      "defaultValue": "false",
      "label": "Reset all data",
      "name": "reset_all_data",
      "options": {
       "widgetType": "dropdown",
       "autoCreated": false,
       "choices": [
        "true",
        "false"
       ]
      }
     }
    }
   }
  },
  "language_info": {
   "name": "python"
  },
  "name": "LogisticRegressionClassifier-0abbbf5436453f2bb05f5f6ce0bc4e96"
 },
 "nbformat": 4,
 "nbformat_minor": 0
}
