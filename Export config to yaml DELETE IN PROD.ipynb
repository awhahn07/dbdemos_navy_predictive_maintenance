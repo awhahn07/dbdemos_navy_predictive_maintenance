{
 "cells": [
  {
   "cell_type": "code",
   "execution_count": 0,
   "metadata": {
    "application/vnd.databricks.v1+cell": {
     "cellMetadata": {
      "byteLimit": 2048000,
      "rowLimit": 10000
     },
     "inputWidgets": {},
     "nuid": "d7da14fb-dac6-4311-824a-ed6d0fa41d0f",
     "showTitle": false,
     "tableResultSettingsMap": {},
     "title": ""
    }
   },
   "outputs": [],
   "source": [
    "confluentBootstrapServers = \"pkc-wzjyjg.us-east-2.aws.confluent.cloud:9092\"\n",
    "\n",
    "# NOTE: You have the right idea here to use secrets\n",
    "# confluentApiKey = dbutils.secrets.get(scope = \"confluentTest\", key = \"api-key\")\n",
    "# confluentSecret = dbutils.secrets.get(scope = \"confluentTest\", key = \"secret\")\n",
    "\n",
    "# confluentApiKey = 'G6D3CLLKS6Y3AD5E'\n",
    "# confluentSecret = ''\n",
    "\n",
    "\n",
    "confluent_setup = {\n",
    "  \"server\": confluentBootstrapServers,\n",
    "  \"api_key\": confluentApiKey,\n",
    "  \"secret\": confluentSecret\n",
    "}"
   ]
  },
  {
   "cell_type": "code",
   "execution_count": 0,
   "metadata": {
    "application/vnd.databricks.v1+cell": {
     "cellMetadata": {
      "byteLimit": 2048000,
      "rowLimit": 10000
     },
     "inputWidgets": {},
     "nuid": "d5460bf3-adcf-419f-8f8e-461565041894",
     "showTitle": false,
     "tableResultSettingsMap": {},
     "title": ""
    }
   },
   "outputs": [],
   "source": [
    "# Schema Definitions\n",
    "\n",
    "sensor_bronze_schema = \"\"\"\n",
    "timestamp LONG,\n",
    "sensor_E DOUBLE,\n",
    "sensor_C DOUBLE,\n",
    "sensor_B DOUBLE,\n",
    "sensor_A DOUBLE,\n",
    "sensor_F DOUBLE,\n",
    "sensor_D DOUBLE,\n",
    "energy DOUBLE,\n",
    "turbine_id STRING,\n",
    "UPDATE_TS BIGINT\n",
    "\"\"\"\n",
    "\n",
    "turbine_schema = \"\"\"\n",
    "country STRING,\n",
    "lat STRING,\n",
    "location STRING,\n",
    "long STRING,\n",
    "model STRING,\n",
    "state STRING,\n",
    "turbine_id STRING,\n",
    "UPDATE_TS BIGINT\n",
    "\"\"\"\n",
    "\n",
    "ship_meta_schema = \"\"\"\n",
    "homeport STRING,\n",
    "lat STRING,\n",
    "long STRING,\n",
    "model STRING,\n",
    "ship STRING,\n",
    "turbine_id STRING,\n",
    "UPDATE_TS BIGINT\n",
    "\"\"\"\n",
    "\n",
    "historical_turbine_status_schema = \"\"\"\n",
    "abnormal_sensor STRING,\n",
    "end_time LONG,\n",
    "start_time LONG,\n",
    "turbine_id STRING,\n",
    "UPDATE_TS BIGINT\n",
    "\"\"\"\n",
    "\n",
    "parts_schema = \"\"\"\n",
    "NSN STRING,\n",
    "height LONG,\n",
    "production_time LONG,\n",
    "sensors ARRAY<STRING>,\n",
    "stock_available LONG,\n",
    "stock_location STRING,\n",
    "type STRING,\n",
    "weight LONG,\n",
    "width LONG,\n",
    "UPDATE_TS BIGINT\n",
    "\"\"\"\n",
    "\n",
    "# Dictionary of table names and info, info containes schema, confluent topic, and comment\n",
    "table_dict = {\n",
    "    # 'sensor_bronze': {\n",
    "    #   'schema': sensor_bronze_schema,\n",
    "    #   'confluentTopic': 'ADD TOPIC',\n",
    "    #   'comment': 'ADD COMMENT'\n",
    "    #   },\n",
    "    'parts': {\n",
    "      'schema': parts_schema,\n",
    "      'confluentTopic': 'parts',\n",
    "      'comment': 'Turbine parts from our manufacturing system',\n",
    "      'expectation': 'ADD EXPECTATION'\n",
    "      },\n",
    "    'ship_meta': {\n",
    "      'schema': ship_meta_schema,\n",
    "      'confluentTopic': 'ship-meta',\n",
    "      'comment': 'hip to turbine Meta_Data mapping'\n",
    "      },\n",
    "    'historical_turbine_status': {\n",
    "      'schema': historical_turbine_status_schema,\n",
    "      'confluentTopic': 'historical-turbine-status',\n",
    "      'comment': 'Turbine status to be used as label in our predictive maintenance model (to know which turbine is potentially faulty)'\n",
    "      },\n",
    "    'turbine': {\n",
    "      'schema': turbine_schema,\n",
    "      'confluentTopic': 'turbine',\n",
    "      'comment': 'Turbine details, with location, wind turbine model type etc'\n",
    "      }\n",
    "}"
   ]
  },
  {
   "cell_type": "code",
   "execution_count": 0,
   "metadata": {
    "application/vnd.databricks.v1+cell": {
     "cellMetadata": {
      "byteLimit": 2048000,
      "rowLimit": 10000
     },
     "inputWidgets": {},
     "nuid": "18adb8be-8444-413e-a774-e0ace44d6f56",
     "showTitle": false,
     "tableResultSettingsMap": {},
     "title": ""
    }
   },
   "outputs": [],
   "source": [
    "data = {\n",
    "  \"confluent_setup\": confluent_setup,\n",
    "  \"table_setup\": table_dict,\n",
    "}"
   ]
  },
  {
   "cell_type": "code",
   "execution_count": 0,
   "metadata": {
    "application/vnd.databricks.v1+cell": {
     "cellMetadata": {
      "byteLimit": 2048000,
      "rowLimit": 10000
     },
     "inputWidgets": {},
     "nuid": "b851a034-4017-4a3c-be08-5a0c24ea3d92",
     "showTitle": false,
     "tableResultSettingsMap": {},
     "title": ""
    }
   },
   "outputs": [],
   "source": [
    "import yaml\n",
    "\n",
    "# Sample dictionary\n",
    "\n",
    "\n",
    "# Write to a YAML file\n",
    "with open('confluent_configs.yaml', 'w') as file:\n",
    "    yaml.dump(data, file, default_flow_style=False)"
   ]
  }
 ],
 "metadata": {
  "application/vnd.databricks.v1+notebook": {
   "computePreferences": null,
   "dashboards": [],
   "environmentMetadata": {
    "base_environment": "",
    "environment_version": "2"
   },
   "inputWidgetPreferences": null,
   "language": "python",
   "notebookMetadata": {
    "pythonIndentUnit": 2
   },
   "notebookName": "Export config to yaml DELETE IN PROD",
   "widgets": {}
  },
  "language_info": {
   "name": "python"
  }
 },
 "nbformat": 4,
 "nbformat_minor": 0
}
