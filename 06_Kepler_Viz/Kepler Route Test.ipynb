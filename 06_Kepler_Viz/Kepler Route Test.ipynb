{
 "cells": [
  {
   "cell_type": "code",
   "execution_count": 0,
   "metadata": {
    "application/vnd.databricks.v1+cell": {
     "cellMetadata": {
      "byteLimit": 2048000,
      "rowLimit": 10000
     },
     "inputWidgets": {},
     "nuid": "2b0416e5-fa3a-45c8-b96b-244e0ba2e250",
     "showTitle": false,
     "tableResultSettingsMap": {},
     "title": ""
    }
   },
   "outputs": [],
   "source": [
    "%pip install keplergl "
   ]
  },
  {
   "cell_type": "code",
   "execution_count": 0,
   "metadata": {
    "application/vnd.databricks.v1+cell": {
     "cellMetadata": {
      "byteLimit": 2048000,
      "rowLimit": 10000
     },
     "inputWidgets": {},
     "nuid": "3b671f4c-e0f8-46fb-9cb6-989d52c058d5",
     "showTitle": false,
     "tableResultSettingsMap": {},
     "title": ""
    }
   },
   "outputs": [],
   "source": [
    "# After %pip installs on Databricks, it's good practice to restart Python\n",
    "dbutils.library.restartPython()\n"
   ]
  },
  {
   "cell_type": "code",
   "execution_count": 0,
   "metadata": {
    "application/vnd.databricks.v1+cell": {
     "cellMetadata": {
      "byteLimit": 2048000,
      "rowLimit": 10000
     },
     "inputWidgets": {},
     "nuid": "b8df9a65-c6b4-4bbf-8a1f-4f53a207cdf7",
     "showTitle": false,
     "tableResultSettingsMap": {},
     "title": ""
    }
   },
   "outputs": [],
   "source": [
    "# Run the geo_utils notebook\n",
    "%run ./geo_utils.ipynb"
   ]
  },
  {
   "cell_type": "code",
   "execution_count": 0,
   "metadata": {
    "application/vnd.databricks.v1+cell": {
     "cellMetadata": {
      "byteLimit": 2048000,
      "rowLimit": 10000
     },
     "inputWidgets": {},
     "nuid": "59779cf7-c881-46f7-9d74-81f0ae9f7a58",
     "showTitle": false,
     "tableResultSettingsMap": {},
     "title": ""
    }
   },
   "outputs": [],
   "source": [
    "%run ../config"
   ]
  },
  {
   "cell_type": "code",
   "execution_count": 0,
   "metadata": {
    "application/vnd.databricks.v1+cell": {
     "cellMetadata": {
      "byteLimit": 2048000,
      "rowLimit": 10000
     },
     "inputWidgets": {},
     "nuid": "5874bbd9-7ef1-4b33-a267-1351e37d0fd4",
     "showTitle": false,
     "tableResultSettingsMap": {},
     "title": ""
    }
   },
   "outputs": [],
   "source": [
    "\n",
    "db = 'predictive_maintenance_navy_test'\n",
    "spark.sql(f'USE CATALOG {catalog}')\n",
    "spark.sql(f'USE SCHEMA {db}')"
   ]
  },
  {
   "cell_type": "code",
   "execution_count": 0,
   "metadata": {
    "application/vnd.databricks.v1+cell": {
     "cellMetadata": {
      "byteLimit": 2048000,
      "rowLimit": 10000
     },
     "inputWidgets": {},
     "nuid": "c8cedda6-c7ab-41ca-b67d-3be0d0e04dbd",
     "showTitle": false,
     "tableResultSettingsMap": {},
     "title": ""
    }
   },
   "outputs": [],
   "source": [
    "# ---- Platforms ---\n",
    "platforms_sdf = spark.read.option(\"header\", True).csv('/Volumes/public_sector/predictive_maintenance_navy_test/raw_landing/PdM_Platform_Data - navy_platform_data_underway_sim.csv')\n",
    "\n",
    "platforms_sdf = platforms_sdf.drop('lat', 'long')\n",
    "platforms_sdf = platforms_sdf.withColumnRenamed('sim_lat', 'lat').withColumnRenamed('sim_lon', 'long')\n",
    "\n",
    "# platforms_sdf = spark.table('ship_meta')\n",
    "\n",
    "\n",
    "from pyspark.sql.types import DoubleType\n",
    "\n",
    "platforms_sdf = platforms_sdf.withColumn(\"lat\", platforms_sdf[\"lat\"].cast(DoubleType()))\n",
    "platforms_sdf = platforms_sdf.withColumn(\"long\", platforms_sdf[\"long\"].cast(DoubleType()))\n",
    "platforms_pdf = spiderfy_duplicates(platforms_sdf.toPandas(), lon_col='long', radius_m=400)\n",
    "platforms_sdf = spark.createDataFrame(platforms_pdf)\n",
    "\n",
    "\n",
    "# ---- USER CONFIG ----\n",
    "# --- Stock and routing table --- \n",
    "STOCK_TABLE     = \"public_sector.predictive_maintenance_navy_test.parts_silver\"  # e.g., \"maritime.stock_locations\"\n",
    "ROUTES_TABLE    = \"public_sector.predictive_maintenance_navy_test.shipment_recommendations\"           # e.g., \"maritime.routes\"\n",
    "\n",
    "from pyspark.sql import functions as F\n",
    "\n",
    "# --- Load Delta tables\n",
    "stock_sdf = spark.table(STOCK_TABLE)\n",
    "stock_sdf = stock_sdf.select(\"stock_location\", \"stock_location_id\", \"lat\", \"long\").distinct()\n",
    "stock_sdf = stock_sdf.withColumn(\"lat\", F.round(F.col(\"lat\"), 0)).withColumn(\"long\", F.round(F.col(\"long\"), 0))\n",
    "\n",
    "\n",
    "routes_sdf = spark.table(ROUTES_TABLE)\n",
    "routes_sdf = routes_sdf.filter(F.col(\"qty_shipped\") > 0)"
   ]
  },
  {
   "cell_type": "code",
   "execution_count": 0,
   "metadata": {
    "application/vnd.databricks.v1+cell": {
     "cellMetadata": {
      "byteLimit": 2048000,
      "rowLimit": 10000
     },
     "inputWidgets": {},
     "nuid": "4bab2b86-12ca-40d7-af71-15cc8474c864",
     "showTitle": false,
     "tableResultSettingsMap": {},
     "title": ""
    }
   },
   "outputs": [],
   "source": [
    "display(routes_sdf)"
   ]
  },
  {
   "cell_type": "code",
   "execution_count": 0,
   "metadata": {
    "application/vnd.databricks.v1+cell": {
     "cellMetadata": {
      "byteLimit": 2048000,
      "rowLimit": 10000
     },
     "inputWidgets": {},
     "nuid": "0ebe1ee6-005c-450f-93ff-afec2dccec55",
     "showTitle": false,
     "tableResultSettingsMap": {},
     "title": ""
    }
   },
   "outputs": [],
   "source": [
    "\n",
    "# --- Build arcs: join source (stock) and target (platform) coordinates\n",
    "arcs_sdf = (\n",
    "    routes_sdf.alias(\"r\")\n",
    "    .join(\n",
    "        stock_sdf.select(\n",
    "            F.col(\"stock_location_id\").alias(\"stock_location_id_s\"),\n",
    "            F.col(\"lat\").alias(\"source_lat\"),\n",
    "            F.col(\"long\").alias(\"source_lng\"),\n",
    "            F.col(\"stock_location\").alias(\"stock_name\")\n",
    "        ),\n",
    "        F.col(\"r.stock_location_id\") == F.col(\"stock_location_id_s\"),\n",
    "        \"left\"\n",
    "    )\n",
    "    .join(\n",
    "        platforms_sdf.select(\n",
    "            F.col(\"designator\").alias(\"designator_p\"),\n",
    "            F.col(\"lat\").alias(\"target_lat\"),\n",
    "            F.col(\"long\").alias(\"target_lng\"),\n",
    "            # F.col(\"name\").alias(\"platform_name\")\n",
    "        ),\n",
    "        F.col(\"r.designator\") == F.col(\"designator_p\"),\n",
    "        \"left\"\n",
    "    )\n",
    "    .select(\n",
    "        F.col(\"r.stock_location_id\"),\n",
    "        F.col(\"r.designator\"),\n",
    "        F.col(\"r.type\"),\n",
    "        F.col(\"r.qty_shipped\"),\n",
    "        \"source_lat\",\"source_lng\",\"target_lat\",\"target_lng\",\n",
    "        # F.col(\"r.priority\").alias(\"priority\"),\n",
    "        \"stock_name\"\n",
    "    )\n",
    ")\n"
   ]
  },
  {
   "cell_type": "code",
   "execution_count": 0,
   "metadata": {
    "application/vnd.databricks.v1+cell": {
     "cellMetadata": {
      "byteLimit": 2048000,
      "rowLimit": 10000
     },
     "inputWidgets": {},
     "nuid": "24b8ebc7-eacc-45f4-8219-44d02d322e97",
     "showTitle": false,
     "tableResultSettingsMap": {},
     "title": ""
    }
   },
   "outputs": [],
   "source": [
    "import pandas as pd\n",
    "from keplergl import KeplerGl\n",
    "\n",
    "platforms_pdf = platforms_sdf.toPandas()\n",
    "stock_pdf     = stock_sdf.toPandas()\n",
    "arcs_pdf      = arcs_sdf.toPandas()\n",
    "\n",
    "def make_kepler_config():\n",
    "    return {\n",
    "        \"version\": \"v1\",\n",
    "        \"config\": {\n",
    "            \"mapState\": {\n",
    "                \"latitude\": 34.5,\n",
    "                \"longitude\": -112.0,\n",
    "                \"zoom\": 2.5,\n",
    "                \"pitch\": 45,\n",
    "                \"bearing\": 0\n",
    "            },\n",
    "            \"mapStyle\": {\n",
    "                #\"styleType\": \"dark\",\n",
    "                \"visibleLayerGroups\": {\"label\": True, \"road\": True, \"border\": False, \"building\": False, \"water\": True, \"land\": True}\n",
    "            },\n",
    "            \"visState\": {\n",
    "                \"filters\": [],\n",
    "                \"interactionConfig\": {\n",
    "                    \"tooltip\": {\n",
    "                        \"fieldsToShow\": {\n",
    "                            \"platforms\": [{\"name\": \"designator\"}],\n",
    "                            \"stock_locations\": [{\"name\": \"stock_location_id\"}, {\"name\": \"stock_location\"}],\n",
    "                            \"shipping_routes\": [{\"name\": \"stock_name\"}, {\"name\": \"designator\"}, {\"name\": \"type\"}],\n",
    "                        },\n",
    "                        \"compareMode\": False,\n",
    "                        \"enabled\": True\n",
    "                    }\n",
    "                },\n",
    "                \"layerBlending\": \"normal\",\n",
    "                \"layers\": [\n",
    "                    {\n",
    "                        \"id\": \"platforms-layer\",\n",
    "                        \"type\": \"point\",\n",
    "                        \"config\": {\n",
    "                            \"dataId\": \"platforms\",\n",
    "                            \"label\": \"Platforms\",\n",
    "                            \"color\": [255, 140, 0],\n",
    "                            \"columns\": {\"lat\": \"lat\", \"lng\": \"long\"},\n",
    "                            \"isVisible\": True,\n",
    "                            \"visConfig\": {\n",
    "                                \"radius\": 50,\n",
    "                                \"opacity\": 0.9,\n",
    "                                \"outline\": True,\n",
    "                                \"thickness\": 3\n",
    "                            }\n",
    "                        }\n",
    "                    },\n",
    "                    {\n",
    "                        \"id\": \"stock-layer\",\n",
    "                        \"type\": \"point\",\n",
    "                        \"config\": {\n",
    "                            \"dataId\": \"stock_locations\",\n",
    "                            \"label\": \"Stock Locations\",\n",
    "                            \"color\": [0, 204, 255],\n",
    "                            \"columns\": {\"lat\": \"lat\", \"lng\": \"long\"},\n",
    "                            \"isVisible\": True,\n",
    "                            \"visConfig\": {\n",
    "                                \"radius\": 50,\n",
    "                                \"opacity\": 0.9,\n",
    "                                \"outline\": True,\n",
    "                                \"thickness\": 3\n",
    "                            }\n",
    "                        }\n",
    "                    },\n",
    "                    {\n",
    "                        \"id\": \"routes-layer\",\n",
    "                        \"type\": \"arc\",\n",
    "                        \"config\": {\n",
    "                            \"dataId\": \"shipping_routes\",\n",
    "                            \"label\": \"Shipping Routes\",\n",
    "                            \"color\": [60, 220, 130],\n",
    "                            \"columns\": {\n",
    "                                \"lat0\": \"source_lat\",\n",
    "                                \"lng0\": \"source_lng\",\n",
    "                                \"lat1\": \"target_lat\",\n",
    "                                \"lng1\": \"target_lng\"\n",
    "                            },\n",
    "                            \"isVisible\": True,\n",
    "                            \"visConfig\": {\n",
    "                                \"opacity\": 0.6,\n",
    "                                \"thickness\": 3,\n",
    "                                \"colorRange\": {\n",
    "                                    \"name\": \"ColorBrewer YlGn-6\",\n",
    "                                    \"type\": \"sequential\",\n",
    "                                    \"category\": \"ColorBrewer\",\n",
    "                                    \"colors\": [\"#f7fcb9\", \"#d9f0a3\", \"#addd8e\", \"#78c679\", \"#41ab5d\", \"#238443\"]\n",
    "                                },\n",
    "                                \"sizeRange\": [1, 15]\n",
    "                            }\n",
    "                        }\n",
    "                    }\n",
    "                ]\n",
    "            }\n",
    "        }\n",
    "    }\n",
    "\n",
    "config = make_kepler_config()\n",
    "m = KeplerGl(config=config)\n",
    "m.add_data(data=platforms_pdf, name=\"platforms\")\n",
    "m.add_data(data=stock_pdf, name=\"stock_locations\")\n",
    "m.add_data(data=arcs_pdf, name=\"shipping_routes\")\n",
    "\n",
    "m\n"
   ]
  },
  {
   "cell_type": "code",
   "execution_count": 0,
   "metadata": {
    "application/vnd.databricks.v1+cell": {
     "cellMetadata": {
      "byteLimit": 2048000,
      "rowLimit": 10000
     },
     "inputWidgets": {},
     "nuid": "ce9081eb-192a-4169-9c65-495fb31bab28",
     "showTitle": false,
     "tableResultSettingsMap": {},
     "title": ""
    }
   },
   "outputs": [],
   "source": [
    "map_path = '/Volumes/public_sector/predictive_maintenance_navy/raw_landing/map_test.html'\n",
    "m.save_to_html(file_name=map_path, read_only=False)"
   ]
  }
 ],
 "metadata": {
  "application/vnd.databricks.v1+notebook": {
   "computePreferences": {
    "hardware": {
     "accelerator": null,
     "gpuPoolId": null,
     "memory": null
    }
   },
   "dashboards": [],
   "environmentMetadata": {
    "base_environment": "",
    "environment_version": "3"
   },
   "inputWidgetPreferences": null,
   "language": "python",
   "notebookMetadata": {
    "pythonIndentUnit": 2
   },
   "notebookName": "Kepler Route Test",
   "widgets": {}
  },
  "language_info": {
   "name": "python"
  }
 },
 "nbformat": 4,
 "nbformat_minor": 0
}
