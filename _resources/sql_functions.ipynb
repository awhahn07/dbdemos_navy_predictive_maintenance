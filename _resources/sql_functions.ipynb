{
 "cells": [
  {
   "cell_type": "code",
   "execution_count": 0,
   "metadata": {
    "application/vnd.databricks.v1+cell": {
     "cellMetadata": {
      "byteLimit": 2048000,
      "rowLimit": 10000
     },
     "inputWidgets": {},
     "nuid": "eec4aac3-3135-4901-a37a-cacc7867c6b8",
     "showTitle": false,
     "tableResultSettingsMap": {},
     "title": ""
    }
   },
   "outputs": [],
   "source": [
    "%run ../config"
   ]
  },
  {
   "cell_type": "code",
   "execution_count": 0,
   "metadata": {
    "application/vnd.databricks.v1+cell": {
     "cellMetadata": {
      "byteLimit": 2048000,
      "rowLimit": 10000
     },
     "inputWidgets": {},
     "nuid": "e33010bd-16b1-4178-94a0-4636244307bf",
     "showTitle": false,
     "tableResultSettingsMap": {},
     "title": ""
    }
   },
   "outputs": [],
   "source": [
    "%run ./00-global-setup-v2"
   ]
  },
  {
   "cell_type": "code",
   "execution_count": 0,
   "metadata": {
    "application/vnd.databricks.v1+cell": {
     "cellMetadata": {
      "byteLimit": 2048000,
      "rowLimit": 10000
     },
     "inputWidgets": {},
     "nuid": "e6eaee94-514d-45c8-acae-aa4394cf4da6",
     "showTitle": false,
     "tableResultSettingsMap": {},
     "title": ""
    }
   },
   "outputs": [],
   "source": [
    "reset_all_data = dbutils.widgets.get(\"reset_all_data\") == \"true\"\n",
    "DBDemos.setup_schema(catalog, db, reset_all_data, volume_name)\n",
    "folder = f\"/Volumes/{catalog}/{db}/{volume_name}\""
   ]
  },
  {
   "cell_type": "code",
   "execution_count": 0,
   "metadata": {
    "application/vnd.databricks.v1+cell": {
     "cellMetadata": {
      "byteLimit": 2048000,
      "implicitDf": true,
      "rowLimit": 10000
     },
     "inputWidgets": {},
     "nuid": "1afb61df-014a-4c04-b738-58a8f2daaf03",
     "showTitle": false,
     "tableResultSettingsMap": {},
     "title": ""
    }
   },
   "outputs": [],
   "source": [
    "def sensor_hourly_agg(input_table: str):\n",
    "    df = spark.table(input_table)\n",
    "    result = (\n",
    "        df.groupBy(\n",
    "            \"turbine_id\",\n",
    "            F.date_trunc(\"hour\", F.from_unixtime(\"timestamp\")).alias(\"hourly_timestamp\")\n",
    "        )\n",
    "        .agg(\n",
    "            F.avg(\"energy\").alias(\"avg_energy\"),\n",
    "            F.stddev_pop(\"sensor_A\").alias(\"std_sensor_A\"),\n",
    "            F.stddev_pop(\"sensor_B\").alias(\"std_sensor_B\"),\n",
    "            F.stddev_pop(\"sensor_C\").alias(\"std_sensor_C\"),\n",
    "            F.stddev_pop(\"sensor_D\").alias(\"std_sensor_D\"),\n",
    "            F.stddev_pop(\"sensor_E\").alias(\"std_sensor_E\"),\n",
    "            F.stddev_pop(\"sensor_F\").alias(\"std_sensor_F\"),\n",
    "            F.expr(\"percentile_approx(sensor_A, array(0.1,0.3,0.6,0.8,0.95))\").alias(\"percentiles_sensor_A\"),\n",
    "            F.expr(\"percentile_approx(sensor_B, array(0.1,0.3,0.6,0.8,0.95))\").alias(\"percentiles_sensor_B\"),\n",
    "            F.expr(\"percentile_approx(sensor_C, array(0.1,0.3,0.6,0.8,0.95))\").alias(\"percentiles_sensor_C\"),\n",
    "            F.expr(\"percentile_approx(sensor_D, array(0.1,0.3,0.6,0.8,0.95))\").alias(\"percentiles_sensor_D\"),\n",
    "            F.expr(\"percentile_approx(sensor_E, array(0.1,0.3,0.6,0.8,0.95))\").alias(\"percentiles_sensor_E\"),\n",
    "            F.expr(\"percentile_approx(sensor_F, array(0.1,0.3,0.6,0.8,0.95))\").alias(\"percentiles_sensor_F\"),\n",
    "        )\n",
    "    )\n",
    "    display(result)"
   ]
  },
  {
   "cell_type": "code",
   "execution_count": 0,
   "metadata": {
    "application/vnd.databricks.v1+cell": {
     "cellMetadata": {},
     "inputWidgets": {},
     "nuid": "98895fe8-e3c7-4363-8610-9b8802b25466",
     "showTitle": false,
     "tableResultSettingsMap": {},
     "title": ""
    }
   },
   "outputs": [],
   "source": [
    "%sql\n",
    "CREATE OR REPLACE FUNCTION sensor_hourly_agg(input_table STRING)\n",
    "RETURNS TABLE (\n",
    "  turbine_id STRING,\n",
    "  hourly_timestamp TIMESTAMP,\n",
    "  avg_energy DOUBLE,\n",
    "  std_sensor_A DOUBLE,\n",
    "  std_sensor_B DOUBLE,\n",
    "  std_sensor_C DOUBLE,\n",
    "  std_sensor_D DOUBLE,\n",
    "  std_sensor_E DOUBLE,\n",
    "  std_sensor_F DOUBLE,\n",
    "  percentiles_sensor_A ARRAY<DOUBLE>,\n",
    "  percentiles_sensor_B ARRAY<DOUBLE>,\n",
    "  percentiles_sensor_C ARRAY<DOUBLE>,\n",
    "  percentiles_sensor_D ARRAY<DOUBLE>,\n",
    "  percentiles_sensor_E ARRAY<DOUBLE>,\n",
    "  percentiles_sensor_F ARRAY<DOUBLE>\n",
    ")\n",
    "RETURN\n",
    "SELECT\n",
    "  turbine_id,\n",
    "  date_trunc('hour', from_unixtime(timestamp)) AS hourly_timestamp,\n",
    "  avg(energy) AS avg_energy,\n",
    "  stddev_pop(sensor_A) AS std_sensor_A,\n",
    "  stddev_pop(sensor_B) AS std_sensor_B,\n",
    "  stddev_pop(sensor_C) AS std_sensor_C,\n",
    "  stddev_pop(sensor_D) AS std_sensor_D,\n",
    "  stddev_pop(sensor_E) AS std_sensor_E,\n",
    "  stddev_pop(sensor_F) AS std_sensor_F,\n",
    "  percentile_approx(sensor_A, array(0.1, 0.3, 0.6, 0.8, 0.95)) AS percentiles_sensor_A,\n",
    "  percentile_approx(sensor_B, array(0.1, 0.3, 0.6, 0.8, 0.95)) AS percentiles_sensor_B,\n",
    "  percentile_approx(sensor_C, array(0.1, 0.3, 0.6, 0.8, 0.95)) AS percentiles_sensor_C,\n",
    "  percentile_approx(sensor_D, array(0.1, 0.3, 0.6, 0.8, 0.95)) AS percentiles_sensor_D,\n",
    "  percentile_approx(sensor_E, array(0.1, 0.3, 0.6, 0.8, 0.95)) AS percentiles_sensor_E,\n",
    "  percentile_approx(sensor_F, array(0.1, 0.3, 0.6, 0.8, 0.95)) AS percentiles_sensor_F\n",
    "FROM TABLE(IDENTIFIER(input_table))\n",
    "GROUP BY\n",
    "  turbine_id,\n",
    "  date_trunc('hour', from_unixtime(timestamp));"
   ]
  },
  {
   "cell_type": "code",
   "execution_count": 0,
   "metadata": {
    "application/vnd.databricks.v1+cell": {
     "cellMetadata": {},
     "inputWidgets": {},
     "nuid": "a3d61226-e689-4b2e-a951-f5103395ea18",
     "showTitle": false,
     "tableResultSettingsMap": {},
     "title": ""
    }
   },
   "outputs": [],
   "source": [
    "%sql\n",
    "CREATE OR REPLACE VIEW sensor_hourly_agg_live AS\n",
    "SELECT\n",
    "  turbine_id,\n",
    "  date_trunc('hour', from_unixtime(timestamp)) AS hourly_timestamp,\n",
    "  avg(energy) AS avg_energy,\n",
    "  stddev_pop(sensor_A) AS std_sensor_A,\n",
    "  stddev_pop(sensor_B) AS std_sensor_B,\n",
    "  stddev_pop(sensor_C) AS std_sensor_C,\n",
    "  stddev_pop(sensor_D) AS std_sensor_D,\n",
    "  stddev_pop(sensor_E) AS std_sensor_E,\n",
    "  stddev_pop(sensor_F) AS std_sensor_F,\n",
    "  percentile_approx(sensor_A, array(0.1, 0.3, 0.6, 0.8, 0.95)) AS percentiles_sensor_A,\n",
    "  percentile_approx(sensor_B, array(0.1, 0.3, 0.6, 0.8, 0.95)) AS percentiles_sensor_B,\n",
    "  percentile_approx(sensor_C, array(0.1, 0.3, 0.6, 0.8, 0.95)) AS percentiles_sensor_C,\n",
    "  percentile_approx(sensor_D, array(0.1, 0.3, 0.6, 0.8, 0.95)) AS percentiles_sensor_D,\n",
    "  percentile_approx(sensor_E, array(0.1, 0.3, 0.6, 0.8, 0.95)) AS percentiles_sensor_E,\n",
    "  percentile_approx(sensor_F, array(0.1, 0.3, 0.6, 0.8, 0.95)) AS percentiles_sensor_F\n",
    "FROM LIVE.sensor_bronze\n",
    "GROUP BY\n",
    "  turbine_id,\n",
    "  date_trunc('hour', from_unixtime(timestamp));"
   ]
  },
  {
   "cell_type": "code",
   "execution_count": 0,
   "metadata": {
    "application/vnd.databricks.v1+cell": {
     "cellMetadata": {
      "byteLimit": 2048000,
      "implicitDf": true,
      "rowLimit": 10000
     },
     "inputWidgets": {},
     "nuid": "708b6cb4-eb20-4c75-b8c5-b2ba7c8f5927",
     "showTitle": false,
     "tableResultSettingsMap": {
      "0": {
       "dataGridStateBlob": "{\"version\":1,\"tableState\":{\"columnPinning\":{\"left\":[\"#row_number#\"],\"right\":[]},\"columnSizing\":{},\"columnVisibility\":{}},\"settings\":{\"columns\":{}},\"syncTimestamp\":1759173115037}",
       "filterBlob": null,
       "queryPlanFiltersBlob": null,
       "tableResultIndex": 0
      }
     },
     "title": ""
    }
   },
   "outputs": [],
   "source": [
    "%sql\n",
    "SELECT * FROM public_sector.predictive_maintenance_navy_test.historical_sensor_data LIMIT(10)"
   ]
  },
  {
   "cell_type": "code",
   "execution_count": 0,
   "metadata": {
    "application/vnd.databricks.v1+cell": {
     "cellMetadata": {},
     "inputWidgets": {},
     "nuid": "4bfd5cde-e046-4f63-97a7-2d5b344e087e",
     "showTitle": false,
     "tableResultSettingsMap": {},
     "title": ""
    }
   },
   "outputs": [],
   "source": [
    "# -- Refactored to PySpark (for reference, not executable in %sql cell)\n",
    "# -- Please copy this code into a Python cell\n",
    "\n",
    "from pyspark.sql import functions as F\n",
    "\n",
    "def sensor_hourly_agg(df):\n",
    "    return (\n",
    "        df.withColumn(\"hourly_timestamp\", F.date_trunc(\"hour\", F.from_unixtime(F.col(\"timestamp\"))))\n",
    "          .groupBy(\"turbine_id\", \"hourly_timestamp\")\n",
    "          .agg(\n",
    "              F.avg(\"energy\").alias(\"avg_energy\"),\n",
    "              F.stddev_pop(\"sensor_A\").alias(\"std_sensor_A\"),\n",
    "              F.stddev_pop(\"sensor_B\").alias(\"std_sensor_B\"),\n",
    "              F.stddev_pop(\"sensor_C\").alias(\"std_sensor_C\"),\n",
    "              F.stddev_pop(\"sensor_D\").alias(\"std_sensor_D\"),\n",
    "              F.stddev_pop(\"sensor_E\").alias(\"std_sensor_E\"),\n",
    "              F.stddev_pop(\"sensor_F\").alias(\"std_sensor_F\"),\n",
    "              F.expr(\"percentile_approx(sensor_A, array(0.1, 0.3, 0.6, 0.8, 0.95))\").alias(\"percentiles_sensor_A\"),\n",
    "              F.expr(\"percentile_approx(sensor_B, array(0.1, 0.3, 0.6, 0.8, 0.95))\").alias(\"percentiles_sensor_B\"),\n",
    "              F.expr(\"percentile_approx(sensor_C, array(0.1, 0.3, 0.6, 0.8, 0.95))\").alias(\"percentiles_sensor_C\"),\n",
    "              F.expr(\"percentile_approx(sensor_D, array(0.1, 0.3, 0.6, 0.8, 0.95))\").alias(\"percentiles_sensor_D\"),\n",
    "              F.expr(\"percentile_approx(sensor_E, array(0.1, 0.3, 0.6, 0.8, 0.95))\").alias(\"percentiles_sensor_E\"),\n",
    "              F.expr(\"percentile_approx(sensor_F, array(0.1, 0.3, 0.6, 0.8, 0.95))\").alias(\"percentiles_sensor_F\"),\n",
    "          )\n",
    "    )"
   ]
  }
 ],
 "metadata": {
  "application/vnd.databricks.v1+notebook": {
   "computePreferences": {
    "hardware": {
     "accelerator": null,
     "gpuPoolId": null,
     "memory": null
    }
   },
   "dashboards": [],
   "environmentMetadata": {
    "base_environment": "dbe_65bc13ea-276c-4905-a728-9fe2fb1780e2",
    "environment_version": "3"
   },
   "inputWidgetPreferences": null,
   "language": "python",
   "notebookMetadata": {
    "mostRecentlyExecutedCommandWithImplicitDF": {
     "commandId": 8321753609699686,
     "dataframes": [
      "_sqldf"
     ]
    },
    "pythonIndentUnit": 2
   },
   "notebookName": "sql_functions",
   "widgets": {}
  },
  "language_info": {
   "name": "python"
  }
 },
 "nbformat": 4,
 "nbformat_minor": 0
}
