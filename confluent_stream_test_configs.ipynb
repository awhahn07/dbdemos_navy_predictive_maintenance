{
 "cells": [
  {
   "cell_type": "markdown",
   "metadata": {
    "application/vnd.databricks.v1+cell": {
     "cellMetadata": {},
     "inputWidgets": {},
     "nuid": "500ddd01-7f8a-435c-9d6c-f9f5144a8dcc",
     "showTitle": false,
     "tableResultSettingsMap": {},
     "title": ""
    }
   },
   "source": [
    "## Defining some constants for the DLT pipeline\n",
    "- Schemas for tables\n",
    "- List of tables to iterate through\n",
    "- Dictionary mapping for table -> Schema"
   ]
  },
  {
   "cell_type": "code",
   "execution_count": 0,
   "metadata": {
    "application/vnd.databricks.v1+cell": {
     "cellMetadata": {},
     "inputWidgets": {},
     "nuid": "a7fc8baa-6cf6-4e4f-b09c-c2908d5d92cd",
     "showTitle": false,
     "tableResultSettingsMap": {},
     "title": ""
    }
   },
   "outputs": [],
   "source": [
    "# TODO NEEDS UPDATING if using this paradigm\n",
    "\n",
    "sensor_bronze_schema = \"\"\"\n",
    "timestamp LONG,\n",
    "sensor_E DOUBLE,\n",
    "sensor_C DOUBLE,\n",
    "sensor_B DOUBLE,\n",
    "sensor_A DOUBLE,\n",
    "sensor_F DOUBLE,\n",
    "sensor_D DOUBLE,\n",
    "energy DOUBLE,\n",
    "turbine_id STRING,\n",
    "_rescued_data STRING\n",
    "\"\"\"\n",
    "\n",
    "turbine_schema = \"\"\"\n",
    "country STRING,\n",
    "lat STRING,\n",
    "location STRING,\n",
    "long STRING,\n",
    "model STRING,\n",
    "state STRING,\n",
    "turbine_id STRING,\n",
    "_rescued_data STRING\n",
    "\"\"\"\n",
    "\n",
    "ship_meta_schema = \"\"\"\n",
    "homeport STRING,\n",
    "lat STRING,\n",
    "long STRING,\n",
    "model STRING,\n",
    "ship STRING,\n",
    "turbine_id STRING,\n",
    "_rescued_data STRING\n",
    "\"\"\"\n",
    "\n",
    "historical_turbine_status_schema = \"\"\"\n",
    "abnormal_sensor STRING,\n",
    "end_time LONG,\n",
    "start_time LONG,\n",
    "turbine_id STRING,\n",
    "_rescued_data STRING\n",
    "\"\"\"\n",
    "\n",
    "parts_schema = \"\"\"\n",
    "NSN STRING,\n",
    "height LONG,\n",
    "production_time LONG,\n",
    "sensors ARRAY<STRING>,\n",
    "stock_available LONG,\n",
    "stock_location STRING,\n",
    "type STRING,\n",
    "weight LONG,\n",
    "width LONG,\n",
    "_rescued_data STRING\n",
    "\"\"\"\n",
    "\n"
   ]
  },
  {
   "cell_type": "code",
   "execution_count": 0,
   "metadata": {
    "application/vnd.databricks.v1+cell": {
     "cellMetadata": {},
     "inputWidgets": {},
     "nuid": "d0e5c89d-1322-4271-834d-c5a991ba70f5",
     "showTitle": false,
     "tableResultSettingsMap": {},
     "title": ""
    }
   },
   "outputs": [],
   "source": [
    "table_list = ['sensor_bronze', 'parts', 'ship_meta', 'historical_turbine_status', 'turbine']\n",
    "\n",
    "table_dict = {\n",
    "    'sensor_bronze': {'schema': sensor_bronze_schema, 'confluentTopic': 'ADD TOPIC', 'comment': 'ADD COMMENT'},\n",
    "    'parts': {'schema': parts_schema, 'confluentTopic': 'parts', 'comment': 'ADD COMMENT'},\n",
    "    'ship_meta': {'schema': ship_meta_schema, 'confluentTopic': 'ship-meta', 'comment': 'ADD COMMENT'},\n",
    "    'historical_turbine_status': {'schema': historical_turbine_status_schema, 'confluentTopic': 'historical-turbine-status', 'comment': 'ADD COMMENT'},\n",
    "    'turbine': {'schema': turbine_schema, 'confluentTopic': 'turbine', 'comment': 'ADD COMMENT'}\n",
    "}"
   ]
  },
  {
   "cell_type": "code",
   "execution_count": 0,
   "metadata": {
    "application/vnd.databricks.v1+cell": {
     "cellMetadata": {},
     "inputWidgets": {},
     "nuid": "f86dd9b7-0dc3-41cb-897e-608b3ff3656e",
     "showTitle": false,
     "tableResultSettingsMap": {},
     "title": ""
    }
   },
   "outputs": [],
   "source": [
    "# TODO update table dict output\n",
    "dbutils.notebook.exit((table_list, schema_dict))"
   ]
  }
 ],
 "metadata": {
  "application/vnd.databricks.v1+notebook": {
   "computePreferences": null,
   "dashboards": [],
   "environmentMetadata": {
    "base_environment": "",
    "environment_version": "2"
   },
   "inputWidgetPreferences": null,
   "language": "python",
   "notebookMetadata": {
    "pythonIndentUnit": 2
   },
   "notebookName": "confluent_stream_test_configs",
   "widgets": {}
  },
  "language_info": {
   "name": "python"
  }
 },
 "nbformat": 4,
 "nbformat_minor": 0
}
